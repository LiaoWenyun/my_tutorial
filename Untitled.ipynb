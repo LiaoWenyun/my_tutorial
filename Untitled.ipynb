{
 "cells": [
  {
   "cell_type": "code",
   "execution_count": 1,
   "metadata": {},
   "outputs": [],
   "source": [
    "from astropy.io.votable.tree import VOTableFile, Resource, Table, Field\n",
    "\n",
    "# Create a new VOTable file...\n",
    "votable = VOTableFile()\n",
    "\n",
    "# ...with one resource...\n",
    "resource = Resource()\n",
    "votable.resources.append(resource)\n",
    "\n",
    "# ... with one table\n",
    "table = Table(votable)\n",
    "resource.tables.append(table)\n",
    "\n",
    "# Define some fields\n",
    "table.fields.extend([\n",
    "        Field(votable, name=\"filename\", datatype=\"char\", arraysize=\"*\"),\n",
    "        Field(votable, name=\"matrix\", datatype=\"double\", arraysize=\"2x2\")])\n",
    "\n",
    "# Now, use those field definitions to create the numpy record arrays, with\n",
    "# the given number of rows\n",
    "table.create_arrays(2)\n",
    "\n",
    "# Now table.array can be filled with data\n",
    "table.array[0] = ('test1.xml', [[1, 0], [0, 1]])\n",
    "table.array[1] = ('test2.xml', [[0.5, 0.3], [0.2, 0.1]])\n",
    "\n",
    "# Now write the whole thing to a file.\n",
    "# Note, we have to use the top-level votable file object\n",
    "votable.to_xml(\"new_votable.xml\")"
   ]
  },
  {
   "cell_type": "code",
   "execution_count": null,
   "metadata": {},
   "outputs": [],
   "source": []
  }
 ],
 "metadata": {
  "kernelspec": {
   "display_name": "Python 3",
   "language": "python",
   "name": "python3"
  },
  "language_info": {
   "codemirror_mode": {
    "name": "ipython",
    "version": 3
   },
   "file_extension": ".py",
   "mimetype": "text/x-python",
   "name": "python",
   "nbconvert_exporter": "python",
   "pygments_lexer": "ipython3",
   "version": "3.7.4"
  }
 },
 "nbformat": 4,
 "nbformat_minor": 4
}
