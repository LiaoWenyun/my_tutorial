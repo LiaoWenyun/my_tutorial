{
 "cells": [
  {
   "cell_type": "code",
   "execution_count": 2,
   "metadata": {},
   "outputs": [],
   "source": [
    "import os\n",
    "from urllib.parse import urlencode \n",
    "import pandas as pd \n",
    "from astropy.io.votable.tree import VOTableFile, Resource, Table, Field\n",
    "from astropy.io.votable import from_table, writeto\n",
    "from astropy.table import Table\n",
    "\n",
    "\n",
    "params = {'claimedtype' : 'Ia', 'format' : 'csv' }\n",
    "Catalog_domain ='https://api.sne.space/catalog'\n",
    "query_str  = urlencode(params)\n",
    "url = '{}?{}&first'.format(Catalog_domain,query_str)\n",
    "data = pd.read_csv(url)\n",
    "\n",
    "table = Table.from_pandas(data)     # an astropy table\n",
    "\n",
    "votable = from_table(table)         #convert the astropy table into votable \n",
    "writeto(votable, \"output.xml\")      #write the votable into the xml \n",
    "\n",
    "\n",
    "\n",
    "\n",
    "\n",
    "\n",
    "\n",
    "\n",
    "\n",
    "\n",
    "\n",
    "\n",
    "\n",
    "\n",
    "\n",
    "\n",
    "\n",
    "\n",
    "\n",
    "\n",
    "\n",
    "\n",
    "\n",
    "\n",
    "    "
   ]
  },
  {
   "cell_type": "code",
   "execution_count": null,
   "metadata": {},
   "outputs": [],
   "source": []
  }
 ],
 "metadata": {
  "kernelspec": {
   "display_name": "Python 3",
   "language": "python",
   "name": "python3"
  },
  "language_info": {
   "codemirror_mode": {
    "name": "ipython",
    "version": 3
   },
   "file_extension": ".py",
   "mimetype": "text/x-python",
   "name": "python",
   "nbconvert_exporter": "python",
   "pygments_lexer": "ipython3",
   "version": "3.7.4"
  }
 },
 "nbformat": 4,
 "nbformat_minor": 4
}
