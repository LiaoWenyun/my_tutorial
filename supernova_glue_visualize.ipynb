{
 "cells": [
  {
   "cell_type": "code",
   "execution_count": 1,
   "metadata": {
    "scrolled": true
   },
   "outputs": [
    {
     "data": {
      "application/vnd.jupyter.widget-view+json": {
       "model_id": "245e6fd0342744c0a0ffa5be8bf6fe3f",
       "version_major": 2,
       "version_minor": 0
      },
      "text/plain": [
       "VBox(children=(HBox(children=(BasicJupyterToolbar(children=[ToggleButton(children=[Image(value=b'<?xml version…"
      ]
     },
     "metadata": {},
     "output_type": "display_data"
    },
    {
     "data": {
      "application/vnd.jupyter.widget-view+json": {
       "model_id": "858249b7ee3549f9b54a76797fa46423",
       "version_major": 2,
       "version_minor": 0
      },
      "text/plain": [
       "VBox(children=(HBox(children=(BasicJupyterToolbar(children=[ToggleButton(children=[Image(value=b'<?xml version…"
      ]
     },
     "metadata": {},
     "output_type": "display_data"
    }
   ],
   "source": [
    "from glue_jupyter.data import require_data\n",
    "import urllib.request\n",
    "from urllib.request import urlopen\n",
    "import glue_jupyter as gj\n",
    "from astroquery.cadc import Cadc \n",
    "\n",
    "url = 'https://api.sne.space/catalog?claimedtype=Ia&format=csv&first'\n",
    "request = urlopen(url, timeout = 60)\n",
    "with open('catalog.csv', 'wb') as f:\n",
    "    f.write(request.read())     \n",
    "    \n",
    "    \n",
    "app = gj.jglue()\n",
    "sn_data = app.load_data('catalog.csv')\n",
    "#print(sn_data)\n",
    "\n",
    "scatter_viewer = app.scatter2d(x = 'redshift',y = 'ebv', data = sn_data)\n",
    "histogram_viewer = app.histogram1d(x = 'redshift', data = sn_data)\n"
   ]
  },
  {
   "cell_type": "code",
   "execution_count": 16,
   "metadata": {},
   "outputs": [
    {
     "name": "stdout",
     "output_type": "stream",
     "text": [
      "(Subset: Subset 1 (data: catalog), Subset: Subset 2 (data: catalog))\n",
      "Subset 1\n",
      "Subset 2\n"
     ]
    }
   ],
   "source": [
    "#exporting the selected data \n",
    "print(sn_data.subsets);\n",
    "for subset in sn_data.subsets:\n",
    "    #print(type(sn_data.subsets) )      #access the redshift column of the selected data.\n",
    "    print(subset.label)\n",
    "    #print(subset['event'].size)\n"
   ]
  },
  {
   "cell_type": "code",
   "execution_count": null,
   "metadata": {},
   "outputs": [],
   "source": []
  }
 ],
 "metadata": {
  "kernelspec": {
   "display_name": "Python 3",
   "language": "python",
   "name": "python3"
  },
  "language_info": {
   "codemirror_mode": {
    "name": "ipython",
    "version": 3
   },
   "file_extension": ".py",
   "mimetype": "text/x-python",
   "name": "python",
   "nbconvert_exporter": "python",
   "pygments_lexer": "ipython3",
   "version": "3.7.4"
  }
 },
 "nbformat": 4,
 "nbformat_minor": 4
}
