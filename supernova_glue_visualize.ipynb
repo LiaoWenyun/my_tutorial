{
 "cells": [
  {
   "cell_type": "code",
   "execution_count": 38,
   "metadata": {
    "scrolled": true
   },
   "outputs": [
    {
     "data": {
      "application/vnd.jupyter.widget-view+json": {
       "model_id": "5283ee4d86d941edac60b0c71ffa3d97",
       "version_major": 2,
       "version_minor": 0
      },
      "text/plain": [
       "VBox(children=(HBox(children=(BasicJupyterToolbar(children=[ToggleButton(children=[Image(value=b'<?xml version…"
      ]
     },
     "metadata": {},
     "output_type": "display_data"
    },
    {
     "data": {
      "application/vnd.jupyter.widget-view+json": {
       "model_id": "abca2e7f32de40b4b29c48b6dec5a02e",
       "version_major": 2,
       "version_minor": 0
      },
      "text/plain": [
       "VBox(children=(HBox(children=(BasicJupyterToolbar(children=[ToggleButton(children=[Image(value=b'<?xml version…"
      ]
     },
     "metadata": {},
     "output_type": "display_data"
    }
   ],
   "source": [
    "from glue_jupyter.data import require_data\n",
    "import urllib.request\n",
    "from urllib.request import urlopen\n",
    "import glue_jupyter as gj\n",
    "from astroquery.cadc import Cadc \n",
    "\n",
    "url = 'https://api.sne.space/catalog?claimedtype=Ia&format=csv&first'\n",
    "request = urlopen(url, timeout = 60)\n",
    "with open('catalog.csv', 'wb') as f:\n",
    "    f.write(request.read())     \n",
    "    \n",
    "    \n",
    "app = gj.jglue()\n",
    "sn_data = app.load_data('catalog.csv')\n",
    "#print(sn_data)\n",
    "\n",
    "scatter_viewer = app.scatter2d(x = 'redshift',y = 'ebv', data = sn_data)\n",
    "histogram_viewer = app.histogram1d(x = 'redshift', data = sn_data)\n"
   ]
  },
  {
   "cell_type": "code",
   "execution_count": 34,
   "metadata": {},
   "outputs": [
    {
     "name": "stdout",
     "output_type": "stream",
     "text": [
      "[0.104 0.14  0.19  0.11  0.196 0.244 0.25  0.12 ]\n",
      "['15:48:11.38' '03:32:25.69' '02:47:54.16' '03:32:41.40' '03:53:59.824'\n",
      " '03:54:48.624' '06:31:36.88' '19:39:45.772']\n",
      "['LSQ12byi' 'LSQ13dek' 'PS15doy' 'PTF13ekv' 'SDSS-II SN 15055'\n",
      " 'SDSS-II SN 19461' 'SN2009mn' 'SN2018efg']\n",
      "[0.244 0.25 ]\n",
      "['03:54:48.624' '06:31:36.88']\n",
      "['SDSS-II SN 19461' 'SN2009mn']\n"
     ]
    }
   ],
   "source": [
    "#exporting the selected data \n",
    "for subset in sn_data.subsets:\n",
    "    print(subset['redshift'] )      #access the redshift column of the selected data.\n",
    "    print(subset['ra'])\n",
    "    print(subset['event'])\n"
   ]
  },
  {
   "cell_type": "code",
   "execution_count": null,
   "metadata": {},
   "outputs": [],
   "source": []
  }
 ],
 "metadata": {
  "kernelspec": {
   "display_name": "Python 3",
   "language": "python",
   "name": "python3"
  },
  "language_info": {
   "codemirror_mode": {
    "name": "ipython",
    "version": 3
   },
   "file_extension": ".py",
   "mimetype": "text/x-python",
   "name": "python",
   "nbconvert_exporter": "python",
   "pygments_lexer": "ipython3",
   "version": "3.7.4"
  }
 },
 "nbformat": 4,
 "nbformat_minor": 4
}
