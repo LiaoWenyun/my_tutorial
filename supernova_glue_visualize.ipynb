{
 "cells": [
  {
   "cell_type": "code",
   "execution_count": 22,
   "metadata": {},
   "outputs": [],
   "source": [
    "from glue_jupyter.data import require_data\n",
    "import urllib.request\n",
    "from urllib.request import urlopen\n",
    "\n",
    "\n",
    "url = 'https://api.sne.space/catalog?claimedtype=Ia&format=csv&first'\n",
    "request = urlopen(url, timeout = 60)\n",
    "with open('catalog.csv', 'wb') as f:\n",
    "    f.write(request.read())\n",
    "\n"
   ]
  },
  {
   "cell_type": "code",
   "execution_count": 23,
   "metadata": {},
   "outputs": [],
   "source": [
    "\n",
    "import glue_jupyter as gj\n",
    "app=gj.jglue()"
   ]
  },
  {
   "cell_type": "code",
   "execution_count": 25,
   "metadata": {},
   "outputs": [
    {
     "name": "stdout",
     "output_type": "stream",
     "text": [
      "Data Set: catalog\n",
      "Number of dimensions: 1\n",
      "Shape: 12426\n",
      "Main components:\n",
      " - event\n",
      " - alias\n",
      " - catalog\n",
      " - claimedtype\n",
      " - dec\n",
      " - discoverdate\n",
      " - discoverer\n",
      " - download\n",
      " - ebv\n",
      " - host\n",
      " - hostdec\n",
      " - hostoffsetang\n",
      " - hostoffsetdist\n",
      " - hostra\n",
      " - instruments\n",
      " - lumdist\n",
      " - maxabsmag\n",
      " - maxappmag\n",
      " - maxdate\n",
      " - name\n",
      " - photolink\n",
      " - ra\n",
      " - radiolink\n",
      " - redshift\n",
      " - references\n",
      " - sources\n",
      " - spectralink\n",
      " - velocity\n",
      " - xraylink\n",
      "Coordinate components:\n",
      " - Pixel Axis 0 [x]\n",
      " - World 0\n"
     ]
    }
   ],
   "source": [
    "sn_data = app.load_data('catalog.csv')\n",
    "print(sn_data)"
   ]
  },
  {
   "cell_type": "code",
   "execution_count": 28,
   "metadata": {},
   "outputs": [
    {
     "data": {
      "application/vnd.jupyter.widget-view+json": {
       "model_id": "b69164f6fd3d44d3a8773c1ef36a77b2",
       "version_major": 2,
       "version_minor": 0
      },
      "text/plain": [
       "VBox(children=(HBox(children=(BasicJupyterToolbar(children=[ToggleButton(children=[Image(value=b'<?xml version…"
      ]
     },
     "metadata": {},
     "output_type": "display_data"
    }
   ],
   "source": [
    "scatter_viewer = app.scatter2d(x = 'redshift',y = 'ebv', data = sn_data)"
   ]
  },
  {
   "cell_type": "code",
   "execution_count": 32,
   "metadata": {},
   "outputs": [
    {
     "ename": "AttributeError",
     "evalue": "'JupyterApplication' object has no attribute 'histogramld'",
     "output_type": "error",
     "traceback": [
      "\u001b[0;31m---------------------------------------------------------------------------\u001b[0m",
      "\u001b[0;31mAttributeError\u001b[0m                            Traceback (most recent call last)",
      "\u001b[0;32m<ipython-input-32-c457748cd788>\u001b[0m in \u001b[0;36m<module>\u001b[0;34m\u001b[0m\n\u001b[0;32m----> 1\u001b[0;31m \u001b[0mhistogram_viewer\u001b[0m \u001b[0;34m=\u001b[0m \u001b[0mapp\u001b[0m\u001b[0;34m.\u001b[0m\u001b[0mhistogramld\u001b[0m\u001b[0;34m(\u001b[0m\u001b[0mx\u001b[0m \u001b[0;34m=\u001b[0m \u001b[0;34m'redshift'\u001b[0m\u001b[0;34m,\u001b[0m \u001b[0mdata\u001b[0m \u001b[0;34m=\u001b[0m \u001b[0msn_data\u001b[0m\u001b[0;34m)\u001b[0m\u001b[0;34m\u001b[0m\u001b[0;34m\u001b[0m\u001b[0m\n\u001b[0m",
      "\u001b[0;31mAttributeError\u001b[0m: 'JupyterApplication' object has no attribute 'histogramld'"
     ]
    }
   ],
   "source": [
    "histogram_viewer = app.histogramld(x = 'redshift', data = sn_data)"
   ]
  },
  {
   "cell_type": "code",
   "execution_count": null,
   "metadata": {},
   "outputs": [],
   "source": []
  }
 ],
 "metadata": {
  "kernelspec": {
   "display_name": "Python 3",
   "language": "python",
   "name": "python3"
  },
  "language_info": {
   "codemirror_mode": {
    "name": "ipython",
    "version": 3
   },
   "file_extension": ".py",
   "mimetype": "text/x-python",
   "name": "python",
   "nbconvert_exporter": "python",
   "pygments_lexer": "ipython3",
   "version": "3.7.4"
  }
 },
 "nbformat": 4,
 "nbformat_minor": 2
}
