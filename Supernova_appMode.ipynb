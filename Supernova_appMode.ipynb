{
 "cells": [
  {
   "cell_type": "code",
   "execution_count": null,
   "metadata": {},
   "outputs": [],
   "source": [
    "\n"
   ]
  },
  {
   "cell_type": "code",
   "execution_count": 74,
   "metadata": {},
   "outputs": [
    {
     "name": "stdout",
     "output_type": "stream",
     "text": [
      "set constraints on the supernova catalog table\n",
      "Calculating coords and start end date\n",
      "Creating the votable file for the tmp table.\n",
      "fetching data from the database\n"
     ]
    },
    {
     "data": {
      "application/vnd.jupyter.widget-view+json": {
       "model_id": "59ee94ab1efb424b9ba03d614475450e",
       "version_major": 2,
       "version_minor": 0
      },
      "text/plain": [
       "VBox(children=(HBox(children=(BasicJupyterToolbar(children=[ToggleButton(children=[Image(value=b'<?xml version…"
      ]
     },
     "metadata": {},
     "output_type": "display_data"
    },
    {
     "data": {
      "application/vnd.jupyter.widget-view+json": {
       "model_id": "75118f5c1ba047ecbf1c74d909369025",
       "version_major": 2,
       "version_minor": 0
      },
      "text/plain": [
       "VBox(children=(HBox(children=(BasicJupyterToolbar(children=[ToggleButton(children=[Image(value=b'<?xml version…"
      ]
     },
     "metadata": {},
     "output_type": "display_data"
    }
   ],
   "source": [
    "import os\n",
    "import numpy as np\n",
    "from urllib.parse import urlencode \n",
    "import pandas as pd \n",
    "from IPython.display import Image, display, HTML\n",
    "import astropy.io.votable.tree \n",
    "from astropy.io.votable.tree import VOTableFile, Resource, Table, Field\n",
    "from astropy import units as u \n",
    "from astropy.coordinates import SkyCoord\n",
    "from astropy.time import Time, TimeDelta\n",
    "from cadcutils import net\n",
    "import cadctap\n",
    "from cadctap.core import main_app\n",
    "from cadctap import CadcTapClient\n",
    "#from astropy.table import Table\n",
    "from six import  BytesIO\n",
    "import glue_jupyter as gj\n",
    "\n",
    "#\n",
    "#\n",
    "#\n",
    "def create_a_new_votable(field_dictionary,df):\n",
    "    print(\"Creating the votable file for the tmp table.\")\n",
    "    num_row = df.shape[0]  #get total number of rows in the dataframe  \n",
    "    votable = VOTableFile()\n",
    "    resource = Resource()\n",
    "    votable.resources.append(resource)\n",
    "    table = Table(votable)\n",
    "    resource.tables.append(table)\n",
    "    list =[]\n",
    "    for key, value in field_dictionary.items():\n",
    "        if(len(value)==2):\n",
    "            list.append(Field(votable, name = key, datatype= value[0], arraysize = value[1]))\n",
    "        elif(len(value)==3):\n",
    "            list.append(Field(votable, name = key, datatype= value[0], arraysize = value[1], xtype = value[2], config={'version_1_2_or_later':True}))#hacky way \n",
    "        else:\n",
    "            list.append(Field(votable, name = key, datatype= value))\n",
    "                \n",
    "    table.fields.extend(list)\n",
    "    table.create_arrays(num_row)\n",
    "    ### replace the NaN value in satrt_date and end_date with 0.0\n",
    "    \n",
    "    for i in range(0,num_row):\n",
    "        sn = sn_data.iloc[i]\n",
    "        table.array[i] = (str(sn[\"event\"]),str(sn[\"alias\"]), str(sn[\"catalog\"]), str(sn[\"claimedtype\"]), sn[\"dec\"],\n",
    "                            str(sn[\"maxdate\"]), str(sn[\"name\"]),sn[\"ra\" ],\n",
    "                          sn[\"start_date\"],sn[\"end_date\"],[sn[\"start_date\"],sn[\"end_date\"]])\n",
    "    votable.to_xml(\"tmp/new_votable.xml\")\n",
    "\n",
    "\n",
    "    \n",
    "    \n",
    "params = {'claimedtype' : 'Ia', 'format' : 'csv' }\n",
    "Catalog_domain ='https://api.sne.space/catalog'\n",
    "query_str  = urlencode(params)\n",
    "url = '{}?{}&first'.format(Catalog_domain,query_str)\n",
    "sn_data = pd.read_csv(url)\n",
    "\n",
    "\n",
    "print(\"set constraints on the supernova catalog table\")\n",
    "z_min, z_max = 0.2, 0.3\n",
    "sn_data = sn_data[(sn_data['redshift']>z_min) & (sn_data['redshift']<z_max)] \n",
    "sn_data = sn_data[sn_data['event'].str.startswith('SNLS')]\n",
    "sn_data = sn_data[sn_data['discoverdate']< sn_data['maxdate']]\n",
    "\n",
    "\n",
    "sn_data[\"ra\"] =SkyCoord(sn_data[\"ra\"], sn_data[\"dec\"],unit=(u.hourangle,u.deg)).ra.degree\n",
    "sn_data[\"dec\"] = SkyCoord(sn_data[\"ra\"], sn_data[\"dec\"],unit=(u.hourangle,u.deg)).dec.degree\n",
    "\n",
    "days_before = 20.0\n",
    "days_after = 100.0\n",
    "sn_data[\"maxdate\"] = sn_data[\"maxdate\"].str.replace('/','-')\n",
    "\n",
    "print(\"Calculating coords and start end date\")\n",
    "for index, row in sn_data.iterrows():\n",
    "    if(str(row[\"maxdate\"])!='nan'):\n",
    "        processed_maxdate = Time(row[\"maxdate\"], format='isot')\n",
    "        sn_data.at[index, 'start_date'] =  (processed_maxdate - TimeDelta(days_before,format='jd')).mjd  \n",
    "        sn_data.at[index, 'end_date'] = (processed_maxdate + TimeDelta(days_after, format='jd')).mjd\n",
    "    else: ##set place holder \n",
    "        sn_data.at[index, 'start_date'] =  0.0  \n",
    "        sn_data.at[index, 'end_date'] = 0.1       \n",
    "        \n",
    "\n",
    "sn_data.dropna(subset=['maxdate']) \n",
    "        \n",
    "field_dictionary = {\n",
    "    \"event\":[\"char\", \"*\"],\n",
    "    \"alias\":[\"char\", \"*\"],\n",
    "    \"catalog\":[\"char\", \"*\"],\n",
    "    \"claimedtype\":[\"char\", \"*\"],\n",
    "    \"dec\":\"double\",\n",
    "    \"maxdate\" :[\"char\",\"*\"], \n",
    "    \"name\" :[\"char\",\"*\"],\n",
    "    \"ra\" :\"double\" ,\n",
    "    \"start_date\":\"double\",\n",
    "    \"end_date\": \"double\",\n",
    "    \"start_end_date\":[\"double\", \"2\", \"interval\"]   \n",
    "}\n",
    "\n",
    "### create a votable file\n",
    "create_a_new_votable(field_dictionary, sn_data)\n",
    "###\n",
    "\n",
    "#52865.0,52985.0\n",
    "#334.0276124999999, -17.704655555555554\n",
    "anonSubject = net.Subject()\n",
    "client = CadcTapClient(anonSubject, resource_id ='ivo://cadc.nrc.ca/tap')\n",
    "query =\"\"\"SELECT * FROM caom2.Plane AS Plane\n",
    "    JOIN caom2.Observation AS Observation ON Plane.obsID = Observation.obsID join tap_upload.tmptable as Tmp on\n",
    "    (INTERSECTS(Tmp.start_end_date, Plane.time_bounds_samples) = 1\n",
    "    AND CONTAINS( POINT('ICRS',Tmp.ra, Tmp.dec ), Plane.position_bounds ) = 1)\n",
    "    WHERE (LOWER(Plane.energy_bandpassName) LIKE 'r%'\n",
    "    AND name ='SNLS-03D4cj'\n",
    "    AND collection = 'CFHT'\n",
    "    AND calibrationLevel >= 2\n",
    "    AND (Plane.quality_flag IS NULL OR Plane.quality_flag != 'junk'))\n",
    "    ORDER BY time_bounds_lower ASC\"\"\"\n",
    "\n",
    "def_table = os.path.join('tmp','new_votable.xml')\n",
    "print(\"fetching data from the database\")\n",
    "client.query(query, output_file= \"tmp/out_file.csv\", response_format= 'csv', tmptable='tmptable:' + def_table, timeout = 30)\n",
    "\n",
    "#client.query(query, response_format= 'csv', tmptable='tmptable:' + def_table)\n",
    "    \n",
    "   \n",
    "app = gj.jglue()\n",
    "out_data = app.load_data('tmp/out_file.csv')\n",
    "\n",
    "scatter_viewer = app.scatter2d(x = 'time_bounds_lower',y = 'time_exposure', data = out_data)\n",
    "histogram_viewer = app.histogram1d(x = 'time_exposure', data = out_data)"
   ]
  },
  {
   "cell_type": "code",
   "execution_count": null,
   "metadata": {},
   "outputs": [],
   "source": []
  },
  {
   "cell_type": "code",
   "execution_count": null,
   "metadata": {},
   "outputs": [],
   "source": []
  },
  {
   "cell_type": "code",
   "execution_count": null,
   "metadata": {},
   "outputs": [],
   "source": []
  },
  {
   "cell_type": "code",
   "execution_count": null,
   "metadata": {},
   "outputs": [],
   "source": []
  }
 ],
 "metadata": {
  "kernelspec": {
   "display_name": "Python 3",
   "language": "python",
   "name": "python3"
  },
  "language_info": {
   "codemirror_mode": {
    "name": "ipython",
    "version": 3
   },
   "file_extension": ".py",
   "mimetype": "text/x-python",
   "name": "python",
   "nbconvert_exporter": "python",
   "pygments_lexer": "ipython3",
   "version": "3.7.4"
  }
 },
 "nbformat": 4,
 "nbformat_minor": 2
}
