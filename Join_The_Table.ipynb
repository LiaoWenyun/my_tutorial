{
 "cells": [
  {
   "cell_type": "code",
   "execution_count": 37,
   "metadata": {},
   "outputs": [
    {
     "data": {
      "application/vnd.jupyter.widget-view+json": {
       "model_id": "ec09a16d8c2f42c8843fffc1a06d2ab5",
       "version_major": 2,
       "version_minor": 0
      },
      "text/plain": [
       "interactive(children=(FloatSlider(value=0.2, description='z_min', max=0.6000000000000001, min=-0.2), FloatSlid…"
      ]
     },
     "metadata": {},
     "output_type": "display_data"
    }
   ],
   "source": [
    "import os\n",
    "from urllib.parse import urlencode \n",
    "import pandas as pd \n",
    "from IPython.display import Image, display, HTML\n",
    "import ipywidgets as widgets \n",
    "from ipywidgets import interact, interact_manual \n",
    "from chart_studio.plotly import iplot \n",
    "from astropy import units as u \n",
    "from astropy.coordinates import SkyCoord\n",
    "from astropy.time import Time, TimeDelta\n",
    "from astroquery.cadc import Cadc \n",
    "from datetime import datetime\n",
    "from cadcutils import net\n",
    "import cadctap\n",
    "from cadctap.core import main_app\n",
    "from cadctap import CadcTapClient\n",
    "from astropy.io.votable.tree import VOTableFile, Resource, Table, Field\n",
    "\n",
    "\n",
    "\n",
    "def build_votable():\n",
    "    \n",
    "    \n",
    "    \n",
    "\n",
    "\n",
    "params = {'claimedtype' : 'Ia', 'format' : 'csv' }\n",
    "Catalog_domain ='https://api.sne.space/catalog'\n",
    "query_str  = urlencode(params)\n",
    "url = '{}?{}&first'.format(Catalog_domain,query_str)\n",
    "data = pd.read_csv(url)\n",
    "\n",
    "\n",
    "@interact\n",
    "def filter_data(z_min =0.2, z_max =0.3, event =['SNLS'] ):\n",
    "    global sn_data\n",
    "    sn_data = data.copy()\n",
    "    sn_data = sn_data.dropna(subset = ['discoverdate', 'maxdate','redshift'])\n",
    "    sn_data = sn_data[(sn_data['redshift']>z_min) & (sn_data['redshift']<z_max)] \n",
    "    sn_data = sn_data[sn_data['event'].str.startswith(event)]\n",
    "    sn_data = sn_data[sn_data['discoverdate']< sn_data['maxdate']]\n",
    "    #print('Query url: {}'.format(url))\n",
    "    #print('Number of results: {}'.format(len(sn_data)))\n",
    "    #print(' '*5+'Name'+' '*8+ 'claimedtype'+' '*5+ 'catalog')\n",
    "    #print ('\\n'.join(sn_data.apply(func, axis=1)))\n",
    "    #outF = open(\"catalog.xml\", \"w\")\n",
    "    #outF.write('\\n'.join(sn_data.apply(func, axis=1)))     \n",
    "    #outF.close()\n",
    "    #anonSubject = net.Subject()\n",
    "    #client = CadcTapClient(anonSubject, resource_id ='ivo://cadc.nrc.ca/tap')\n",
    "    #query = \"SELECT * FROM tap_upload.tmptable\"\n",
    "    #def_table = os.path.join('tmp','catalog.xml')\n",
    "    #client.query(query, tmptable='tmptable:' + def_table)\n",
    "\n",
    "\n",
    "    \n",
    "\n",
    "#params = {'claimedtype' : 'Ia', 'format' : 'csv' }\n",
    "#Catalog_domain ='https://api.sne.space/catalog'\n",
    "#query_str  = urlencode(params)\n",
    "#url = '{}?{}&first'.format(Catalog_domain,query_str)\n",
    "#data = pd.read_csv(url)\n",
    "#anonSubject = net.Subject()\n",
    "#client = CadcTapClient(anonSubject, resource_id ='ivo://cadc.nrc.ca/tap')\n",
    "#query = \"\"\"SELECT * FROM catalog \"\"\"\n",
    "#def_table = os.path.join('tmp','catalog.xml')\n",
    "#client.query(query, tmptable='catalog:'+ def_table)\n",
    "\n",
    "\n",
    "\n",
    "#@interact\n",
    "#def filter_data(z_min =0.2, z_max =0.3, event =['SNLS'] ):\n",
    "#    global sn_data\n",
    "#    sn_data = data.copy()\n",
    "#    sn_data = sn_data.dropna(subset = ['discoverdate', 'maxdate','redshift'])\n",
    "#    sn_data = sn_data[(sn_data['redshift']>z_min) & (sn_data['redshift']<z_max)] \n",
    "#    sn_data = sn_data[sn_data['event'].str.startswith(event)]\n",
    "#    sn_data = sn_data[sn_data['discoverdate']< sn_data['maxdate']]\n",
    "#    print('Query url: {}'.format(url))\n",
    "#    print('Number of results: {}'.format(len(sn_data)))\n",
    "#    print(' '*5+'Name'+' '*8+ 'claimedtype'+' '*5+ 'catalog')\n",
    "#    #interact(select_supernova, supernova = (sn_data['name']+' '*8+sn_data['claimedtype']+' '*12+sn_data['catalog']).tolist())\n",
    "        \n",
    "    \n"
   ]
  },
  {
   "cell_type": "code",
   "execution_count": null,
   "metadata": {},
   "outputs": [],
   "source": []
  },
  {
   "cell_type": "code",
   "execution_count": null,
   "metadata": {},
   "outputs": [],
   "source": []
  }
 ],
 "metadata": {
  "kernelspec": {
   "display_name": "Python 3",
   "language": "python",
   "name": "python3"
  },
  "language_info": {
   "codemirror_mode": {
    "name": "ipython",
    "version": 3
   },
   "file_extension": ".py",
   "mimetype": "text/x-python",
   "name": "python",
   "nbconvert_exporter": "python",
   "pygments_lexer": "ipython3",
   "version": "3.7.4"
  }
 },
 "nbformat": 4,
 "nbformat_minor": 2
}
