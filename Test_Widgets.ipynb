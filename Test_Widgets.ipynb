{
 "cells": [
  {
   "cell_type": "markdown",
   "metadata": {},
   "source": [
    "This file is used to test the usability of the the ipywidgets library"
   ]
  },
  {
   "cell_type": "code",
   "execution_count": 144,
   "metadata": {},
   "outputs": [],
   "source": [
    "!pip3 install -U -q pandas \n",
    "!pip3 install -U -q ipywidgets\n",
    "!pip3 install -U -q cufflinks\n",
    "!pip3 install -U -q plotly"
   ]
  },
  {
   "cell_type": "code",
   "execution_count": 2,
   "metadata": {},
   "outputs": [],
   "source": [
    "import numpy as np \n",
    "import pandas as pd\n",
    "import os\n",
    "from IPython.display import Image, display, HTML\n",
    "import cufflinks as cf"
   ]
  },
  {
   "cell_type": "code",
   "execution_count": 3,
   "metadata": {},
   "outputs": [],
   "source": [
    "pd.options.display.max_rows = 30\n",
    "pd.options.display.max_columns =25"
   ]
  },
  {
   "cell_type": "code",
   "execution_count": 4,
   "metadata": {},
   "outputs": [
    {
     "data": {
      "text/html": [
       "<div>\n",
       "<style scoped>\n",
       "    .dataframe tbody tr th:only-of-type {\n",
       "        vertical-align: middle;\n",
       "    }\n",
       "\n",
       "    .dataframe tbody tr th {\n",
       "        vertical-align: top;\n",
       "    }\n",
       "\n",
       "    .dataframe thead th {\n",
       "        text-align: right;\n",
       "    }\n",
       "</style>\n",
       "<table border=\"1\" class=\"dataframe\">\n",
       "  <thead>\n",
       "    <tr style=\"text-align: right;\">\n",
       "      <th></th>\n",
       "      <th>Weight</th>\n",
       "      <th>Age</th>\n",
       "      <th>layer_Name</th>\n",
       "      <th>Position</th>\n",
       "      <th>Nicknames</th>\n",
       "      <th>Years_Active</th>\n",
       "      <th>Date_of_birth</th>\n",
       "    </tr>\n",
       "  </thead>\n",
       "  <tbody>\n",
       "    <tr>\n",
       "      <th>0</th>\n",
       "      <td>112</td>\n",
       "      <td>23</td>\n",
       "      <td>Skippy Peterson</td>\n",
       "      <td>First Base</td>\n",
       "      <td>\"Blue Dog\", \"The Magician\"</td>\n",
       "      <td>1908-1913</td>\n",
       "      <td>1870-02-13</td>\n",
       "    </tr>\n",
       "    <tr>\n",
       "      <th>1</th>\n",
       "      <td>165</td>\n",
       "      <td>54</td>\n",
       "      <td>Bud Grimsby</td>\n",
       "      <td>Center Field</td>\n",
       "      <td>\"The Reaper\", \"Longneck\"</td>\n",
       "      <td>1910-1917</td>\n",
       "      <td>1839-09-23</td>\n",
       "    </tr>\n",
       "    <tr>\n",
       "      <th>2</th>\n",
       "      <td>146</td>\n",
       "      <td>23</td>\n",
       "      <td>Vic Crumb</td>\n",
       "      <td>Shortstop</td>\n",
       "      <td>\"Fat Vic\", \"Icy Hot\"</td>\n",
       "      <td>1911-1912</td>\n",
       "      <td>1897-12-15</td>\n",
       "    </tr>\n",
       "    <tr>\n",
       "      <th>3</th>\n",
       "      <td>117</td>\n",
       "      <td>53</td>\n",
       "      <td>Vic Crumbf</td>\n",
       "      <td>Shortstopf</td>\n",
       "      <td>\"Fat Vicf\", \"Icy Hot\"</td>\n",
       "      <td>1911-1915</td>\n",
       "      <td>1853-06-29</td>\n",
       "    </tr>\n",
       "    <tr>\n",
       "      <th>4</th>\n",
       "      <td>167</td>\n",
       "      <td>43</td>\n",
       "      <td>Bufd Grimsby</td>\n",
       "      <td>Centfer Field</td>\n",
       "      <td>\"The Reafper\", \"Longneck\"</td>\n",
       "      <td>1910-1017</td>\n",
       "      <td>1894-04-19</td>\n",
       "    </tr>\n",
       "  </tbody>\n",
       "</table>\n",
       "</div>"
      ],
      "text/plain": [
       "   Weight  Age       layer_Name       Position                   Nicknames  \\\n",
       "0     112   23  Skippy Peterson     First Base  \"Blue Dog\", \"The Magician\"   \n",
       "1     165   54      Bud Grimsby   Center Field    \"The Reaper\", \"Longneck\"   \n",
       "2     146   23        Vic Crumb      Shortstop        \"Fat Vic\", \"Icy Hot\"   \n",
       "3     117   53       Vic Crumbf     Shortstopf       \"Fat Vicf\", \"Icy Hot\"   \n",
       "4     167   43     Bufd Grimsby  Centfer Field   \"The Reafper\", \"Longneck\"   \n",
       "\n",
       "  Years_Active  Date_of_birth  \n",
       "0    1908-1913     1870-02-13  \n",
       "1    1910-1917     1839-09-23  \n",
       "2    1911-1912     1897-12-15  \n",
       "3    1911-1915     1853-06-29  \n",
       "4    1910-1017     1894-04-19  "
      ]
     },
     "execution_count": 4,
     "metadata": {},
     "output_type": "execute_result"
    }
   ],
   "source": [
    "df = pd.read_csv('test.csv')\n",
    "df.head()\n"
   ]
  },
  {
   "cell_type": "code",
   "execution_count": 5,
   "metadata": {},
   "outputs": [
    {
     "data": {
      "text/html": [
       "<div>\n",
       "<style scoped>\n",
       "    .dataframe tbody tr th:only-of-type {\n",
       "        vertical-align: middle;\n",
       "    }\n",
       "\n",
       "    .dataframe tbody tr th {\n",
       "        vertical-align: top;\n",
       "    }\n",
       "\n",
       "    .dataframe thead th {\n",
       "        text-align: right;\n",
       "    }\n",
       "</style>\n",
       "<table border=\"1\" class=\"dataframe\">\n",
       "  <thead>\n",
       "    <tr style=\"text-align: right;\">\n",
       "      <th></th>\n",
       "      <th>Weight</th>\n",
       "      <th>Age</th>\n",
       "    </tr>\n",
       "  </thead>\n",
       "  <tbody>\n",
       "    <tr>\n",
       "      <th>count</th>\n",
       "      <td>49.000000</td>\n",
       "      <td>49.000000</td>\n",
       "    </tr>\n",
       "    <tr>\n",
       "      <th>mean</th>\n",
       "      <td>145.244898</td>\n",
       "      <td>46.714286</td>\n",
       "    </tr>\n",
       "    <tr>\n",
       "      <th>std</th>\n",
       "      <td>33.571150</td>\n",
       "      <td>19.174636</td>\n",
       "    </tr>\n",
       "    <tr>\n",
       "      <th>min</th>\n",
       "      <td>88.000000</td>\n",
       "      <td>12.000000</td>\n",
       "    </tr>\n",
       "    <tr>\n",
       "      <th>25%</th>\n",
       "      <td>116.000000</td>\n",
       "      <td>33.000000</td>\n",
       "    </tr>\n",
       "    <tr>\n",
       "      <th>50%</th>\n",
       "      <td>147.000000</td>\n",
       "      <td>44.000000</td>\n",
       "    </tr>\n",
       "    <tr>\n",
       "      <th>75%</th>\n",
       "      <td>165.000000</td>\n",
       "      <td>59.000000</td>\n",
       "    </tr>\n",
       "    <tr>\n",
       "      <th>max</th>\n",
       "      <td>231.000000</td>\n",
       "      <td>88.000000</td>\n",
       "    </tr>\n",
       "  </tbody>\n",
       "</table>\n",
       "</div>"
      ],
      "text/plain": [
       "           Weight        Age\n",
       "count   49.000000  49.000000\n",
       "mean   145.244898  46.714286\n",
       "std     33.571150  19.174636\n",
       "min     88.000000  12.000000\n",
       "25%    116.000000  33.000000\n",
       "50%    147.000000  44.000000\n",
       "75%    165.000000  59.000000\n",
       "max    231.000000  88.000000"
      ]
     },
     "execution_count": 5,
     "metadata": {},
     "output_type": "execute_result"
    }
   ],
   "source": [
    "df.describe()"
   ]
  },
  {
   "cell_type": "code",
   "execution_count": 6,
   "metadata": {},
   "outputs": [],
   "source": [
    "import ipywidgets as widgets \n",
    "from ipywidgets import interact, interact_manual "
   ]
  },
  {
   "cell_type": "code",
   "execution_count": 8,
   "metadata": {},
   "outputs": [
    {
     "data": {
      "application/vnd.jupyter.widget-view+json": {
       "model_id": "0e92dbbd16324633a76b07efe8190b37",
       "version_major": 2,
       "version_minor": 0
      },
      "text/plain": [
       "aW50ZXJhY3RpdmUoY2hpbGRyZW49KFRleHQodmFsdWU9dSdXZWlnaHQnLCBkZXNjcmlwdGlvbj11J2NvbHVtbicpLCBJbnRTbGlkZXIodmFsdWU9MTAwLCBkZXNjcmlwdGlvbj11J3gnLCBtYXjigKY=\n"
      ]
     },
     "metadata": {},
     "output_type": "display_data"
    }
   ],
   "source": [
    "# case one, display the list of data with filter on Age or Weight, imput box\n",
    "# use the interact decorator to turn the function into an interactive widget\n",
    "@interact \n",
    "def show_article_more_than( column='Weight', x=100):\n",
    "    return df.loc[df[column] > x]\n",
    "    \n"
   ]
  },
  {
   "cell_type": "code",
   "execution_count": 9,
   "metadata": {},
   "outputs": [
    {
     "data": {
      "application/vnd.jupyter.widget-view+json": {
       "model_id": "41e34c5df4684e23a72e47760c53b1cd",
       "version_major": 2,
       "version_minor": 0
      },
      "text/plain": [
       "aW50ZXJhY3RpdmUoY2hpbGRyZW49KERyb3Bkb3duKGRlc2NyaXB0aW9uPXUnY29sdW1uJywgb3B0aW9ucz0oJ1dlaWdodCcsICdBZ2UnKSwgdmFsdWU9J1dlaWdodCcpLCBJbnRTbGlkZXIodmHigKY=\n"
      ]
     },
     "metadata": {},
     "output_type": "display_data"
    }
   ],
   "source": [
    "# case two, display the list of data with filter on Age or Weight, drop down box \n",
    "@interact \n",
    "def show_article_more_than_drop_down( column=['Weight', 'Age'], x=(20, 200)):\n",
    "    return df.loc[df[column] > x]\n"
   ]
  },
  {
   "cell_type": "code",
   "execution_count": 10,
   "metadata": {},
   "outputs": [
    {
     "data": {
      "application/vnd.jupyter.widget-view+json": {
       "model_id": "e6c51bfb210246dcbba8a92d94c5b1c7",
       "version_major": 2,
       "version_minor": 0
      },
      "text/plain": [
       "aW50ZXJhY3RpdmUoY2hpbGRyZW49KERyb3Bkb3duKGRlc2NyaXB0aW9uPXUnY29sdW1uXzEnLCBvcHRpb25zPSgnV2VpZ2h0JywgJ0FnZScpLCB2YWx1ZT0nV2VpZ2h0JyksIERyb3Bkb3duKGTigKY=\n"
      ]
     },
     "metadata": {},
     "output_type": "display_data"
    }
   ],
   "source": [
    "#case 3, use the columns to do calculations\n",
    "@interact \n",
    "def correlations(column_1 = list(df.select_dtypes('number').columns),\n",
    "                column_2 = list(df.select_dtypes('number').columns)):\n",
    "    print( \"Correlation:\" + str(df[column_1].corr(df[column_2])))"
   ]
  },
  {
   "cell_type": "code",
   "execution_count": 12,
   "metadata": {},
   "outputs": [
    {
     "data": {
      "text/html": [
       "        <script type=\"text/javascript\">\n",
       "        window.PlotlyConfig = {MathJaxConfig: 'local'};\n",
       "        if (window.MathJax) {MathJax.Hub.Config({SVG: {font: \"STIX-Web\"}});}\n",
       "        if (typeof require !== 'undefined') {\n",
       "        require.undef(\"plotly\");\n",
       "        requirejs.config({\n",
       "            paths: {\n",
       "                'plotly': ['https://cdn.plot.ly/plotly-latest.min']\n",
       "            }\n",
       "        });\n",
       "        require(['plotly'], function(Plotly) {\n",
       "            window._Plotly = Plotly;\n",
       "        });\n",
       "        }\n",
       "        </script>\n",
       "        "
      ]
     },
     "metadata": {},
     "output_type": "display_data"
    },
    {
     "data": {
      "application/vnd.jupyter.widget-view+json": {
       "model_id": "9a7768567a784d3db146b83e059f202a",
       "version_major": 2,
       "version_minor": 0
      },
      "text/plain": [
       "aW50ZXJhY3RpdmUoY2hpbGRyZW49KERyb3Bkb3duKGRlc2NyaXB0aW9uPXUneCcsIG9wdGlvbnM9KCdXZWlnaHQnLCksIHZhbHVlPSdXZWlnaHQnKSwgRHJvcGRvd24oZGVzY3JpcHRpb249dSfigKY=\n"
      ]
     },
     "metadata": {},
     "output_type": "display_data"
    }
   ],
   "source": [
    "#case 4, use the columns to plot \n",
    "cf.go_offline()\n",
    "import plotly\n",
    "\n",
    "@interact \n",
    "def plot(x = list(df.select_dtypes('number').columns)[:1],\n",
    "        y = list(df.select_dtypes('number').columns)[1:],\n",
    "        theme = list(cf.themes.THEMES.keys()),\n",
    "        colorscale = list(cf.colors._scales_names.keys())\n",
    "        ):\n",
    "    \n",
    "    df.iplot(kind = 'scatter', x = x, y = y, mode = 'markers',\n",
    "            xTitle = x.title(), yTitle = y.title(),\n",
    "            #text= 'title',\n",
    "            title = y.title() +' vs '+ x.title(),\n",
    "           theme = theme, colorscale = colorscale\n",
    "            )"
   ]
  },
  {
   "cell_type": "code",
   "execution_count": null,
   "metadata": {},
   "outputs": [],
   "source": []
  },
  {
   "cell_type": "code",
   "execution_count": 13,
   "metadata": {},
   "outputs": [
    {
     "data": {
      "application/vnd.jupyter.widget-view+json": {
       "model_id": "f3b442d4930c4957b902595b271fd0b7",
       "version_major": 2,
       "version_minor": 0
      },
      "text/plain": [
       "aW50ZXJhY3RpdmUoY2hpbGRyZW49KEludFNsaWRlcih2YWx1ZT0yMCwgZGVzY3JpcHRpb249dSdzdGFydF9hZ2UnLCBtYXg9NjAsIG1pbj0tMjApLCBJbnRTbGlkZXIodmFsdWU9MTAwLCBkZXPigKY=\n"
      ]
     },
     "metadata": {},
     "output_type": "display_data"
    },
    {
     "data": {
      "text/plain": [
       "<function __main__.print_name_active>"
      ]
     },
     "execution_count": 13,
     "metadata": {},
     "output_type": "execute_result"
    }
   ],
   "source": [
    "from ipywidgets import interact \n",
    "#create own widgets (not using @interact decorator).  \n",
    "\n",
    "def print_name_active(start_age, end_age):\n",
    "    stat_df = df.loc[(df['Age'] >= start_age) & (df['Age'] <= end_age)].copy() \n",
    "    total_age = stat_df['Age'].sum()\n",
    "    num_name = len(stat_df)\n",
    "    print( str(num_name) + \"people are active between start date and end date\" )\n",
    "\n",
    "interact(print_name_active,\n",
    "               start_age= 20,\n",
    "               end_age= 100 \n",
    "               )"
   ]
  },
  {
   "cell_type": "code",
   "execution_count": 14,
   "metadata": {},
   "outputs": [
    {
     "data": {
      "application/vnd.jupyter.widget-view+json": {
       "model_id": "3e944ba2aa0845749e0d57adeff9f4fc",
       "version_major": 2,
       "version_minor": 0
      },
      "text/plain": [
       "aW50ZXJhY3RpdmUoY2hpbGRyZW49KERyb3Bkb3duKGRlc2NyaXB0aW9uPXUnaW1hZ2UnLCBvcHRpb25zPSgnY2F0XzEuanBnJywgJ2NhdF8yLmpwZycsICdkb2dfMS5qcGcnLCAnZG9nXzIuanDigKY=\n"
      ]
     },
     "metadata": {},
     "output_type": "display_data"
    }
   ],
   "source": [
    "#case 5 display images with a drop down box\n",
    "@interact \n",
    "def show_image(image = os.listdir('images/'),):\n",
    "    fdir = 'images/'\n",
    "    display(Image(fdir+image))d"
   ]
  },
  {
   "cell_type": "code",
   "execution_count": 16,
   "metadata": {},
   "outputs": [
    {
     "data": {
      "application/vnd.jupyter.widget-view+json": {
       "model_id": "0186c87f32e24667a44f890aa24b2598",
       "version_major": 2,
       "version_minor": 0
      },
      "text/plain": [
       "Text(value=u'', description=u'String', placeholder=u'Enter a Name Here')"
      ]
     },
     "metadata": {},
     "output_type": "display_data"
    },
    {
     "name": "stdout",
     "output_type": "stream",
     "text": [
      "laura\n",
      "laurhg\n",
      "laurhgfg\n",
      "laurhgh\n"
     ]
    }
   ],
   "source": [
    "#case 6, input a simple string, and print it out later\n",
    "\n",
    "input_name = widgets.Text(description = 'String', \n",
    "                             placeholder = 'Enter a Name Here',\n",
    "                            disabled =False)\n",
    "display(input_name)\n",
    "\n",
    "def handle_submit(sender):\n",
    "    print(input_name.value)\n",
    "    \n",
    "input_name.on_submit(handle_submit)   #on_submit listens to the activity and call a function to handle the activity  \n"
   ]
  },
  {
   "cell_type": "code",
   "execution_count": 18,
   "metadata": {},
   "outputs": [
    {
     "data": {
      "application/vnd.jupyter.widget-view+json": {
       "model_id": "bc5194add50440f1aa30ebd4fae38a99",
       "version_major": 2,
       "version_minor": 0
      },
      "text/plain": [
       "HTML(value=u' Hello laurhgh', placeholder=u'The name is empty ')"
      ]
     },
     "metadata": {},
     "output_type": "display_data"
    }
   ],
   "source": [
    "widgets.HTML(\n",
    "        value = ' Hello '+input_name.value,\n",
    "        placeholder = 'The name is empty '\n",
    ")"
   ]
  },
  {
   "cell_type": "code",
   "execution_count": 19,
   "metadata": {},
   "outputs": [
    {
     "data": {
      "application/vnd.jupyter.widget-view+json": {
       "model_id": "87167b6ca33243d0bd65cb6db92d177d",
       "version_major": 2,
       "version_minor": 0
      },
      "text/plain": [
       "FileUpload(value={}, description=u'Upload')"
      ]
     },
     "metadata": {},
     "output_type": "display_data"
    }
   ],
   "source": [
    "#upload a file from the local directory \n",
    "uploader = widgets.FileUpload(\n",
    "    accept = '',\n",
    "    multiple = False\n",
    "    )\n",
    "uploader "
   ]
  },
  {
   "cell_type": "code",
   "execution_count": 20,
   "metadata": {},
   "outputs": [
    {
     "name": "stdout",
     "output_type": "stream",
     "text": [
      "create a slider :\n"
     ]
    },
    {
     "data": {
      "application/vnd.jupyter.widget-view+json": {
       "model_id": "d9d4c8c567f140f481ae3e4c1e760759",
       "version_major": 2,
       "version_minor": 0
      },
      "text/plain": [
       "aW50ZXJhY3RpdmUoY2hpbGRyZW49KEludFNsaWRlcih2YWx1ZT0yMCwgZGVzY3JpcHRpb249dSd4JywgbWF4PTYwLCBtaW49LTIwKSwgT3V0cHV0KCkpLCBfZG9tX2NsYXNzZXM9KHUnd2lkZ2XigKY=\n"
      ]
     },
     "metadata": {},
     "output_type": "display_data"
    },
    {
     "name": "stdout",
     "output_type": "stream",
     "text": [
      "create a check box :\n"
     ]
    },
    {
     "data": {
      "application/vnd.jupyter.widget-view+json": {
       "model_id": "6a7f3679f61b425898b33da3984cdc5e",
       "version_major": 2,
       "version_minor": 0
      },
      "text/plain": [
       "interactive(children=(Checkbox(value=True, description=u'x'), Output()), _dom_classes=(u'widget-interact',))"
      ]
     },
     "metadata": {},
     "output_type": "display_data"
    },
    {
     "name": "stdout",
     "output_type": "stream",
     "text": [
      "create a input field :\n"
     ]
    },
    {
     "data": {
      "application/vnd.jupyter.widget-view+json": {
       "model_id": "e80e0c55631c4365b6378106b99ba033",
       "version_major": 2,
       "version_minor": 0
      },
      "text/plain": [
       "aW50ZXJhY3RpdmUoY2hpbGRyZW49KFRleHQodmFsdWU9dSd0aGlzIGlzIGEgdGV4dCBmaWVsZCAnLCBkZXNjcmlwdGlvbj11J3gnKSwgT3V0cHV0KCkpLCBfZG9tX2NsYXNzZXM9KHUnd2lkZ2XigKY=\n"
      ]
     },
     "metadata": {},
     "output_type": "display_data"
    },
    {
     "name": "stdout",
     "output_type": "stream",
     "text": [
      "create a dropdown box :\n"
     ]
    },
    {
     "data": {
      "application/vnd.jupyter.widget-view+json": {
       "model_id": "d88e6a44fbf143a996333cf188a88728",
       "version_major": 2,
       "version_minor": 0
      },
      "text/plain": [
       "aW50ZXJhY3RpdmUoY2hpbGRyZW49KERyb3Bkb3duKGRlc2NyaXB0aW9uPXUneCcsIG9wdGlvbnM9KCgnYXBwbGUnLCAnaXMgcmVkJyksICgnYmFuYW5hJywgJ2lzIHllbGxvdycpKSwgdmFsdWXigKY=\n"
      ]
     },
     "metadata": {},
     "output_type": "display_data"
    },
    {
     "data": {
      "text/plain": [
       "<function __main__.my_function>"
      ]
     },
     "execution_count": 20,
     "metadata": {},
     "output_type": "execute_result"
    }
   ],
   "source": [
    "from ipywidgets import interact \n",
    "\n",
    "def my_function(x):\n",
    "    return x\n",
    "\n",
    "print(\"create a slider :\")\n",
    "interact(my_function, x=20)\n",
    "\n",
    "print(\"create a check box :\")\n",
    "interact(my_function, x = True)\n",
    "\n",
    "print(\"create a input field :\")\n",
    "interact(my_function, x = \"this is a text field \")\n",
    "\n",
    "print(\"create a dropdown box :\")\n",
    "interact(my_function, x = [('apple' ,'is red'),('banana','is yellow')])"
   ]
  },
  {
   "cell_type": "code",
   "execution_count": null,
   "metadata": {},
   "outputs": [],
   "source": []
  },
  {
   "cell_type": "code",
   "execution_count": null,
   "metadata": {},
   "outputs": [],
   "source": []
  },
  {
   "cell_type": "code",
   "execution_count": null,
   "metadata": {},
   "outputs": [],
   "source": []
  },
  {
   "cell_type": "code",
   "execution_count": null,
   "metadata": {},
   "outputs": [],
   "source": []
  }
 ],
 "metadata": {
  "kernelspec": {
   "display_name": "Python 3",
   "language": "python",
   "name": "python3"
  },
  "language_info": {
   "codemirror_mode": {
    "name": "ipython",
    "version": 3
   },
   "file_extension": ".py",
   "mimetype": "text/x-python",
   "name": "python",
   "nbconvert_exporter": "python",
   "pygments_lexer": "ipython3",
   "version": "3.7.4"
  }
 },
 "nbformat": 4,
 "nbformat_minor": 2
}
