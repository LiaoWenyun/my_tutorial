{
 "cells": [
  {
   "cell_type": "code",
   "execution_count": 4,
   "metadata": {
    "scrolled": true
   },
   "outputs": [
    {
     "data": {
      "application/vnd.jupyter.widget-view+json": {
       "model_id": "fb9903a6fe834db6ab33321cf8ae5513",
       "version_major": 2,
       "version_minor": 0
      },
      "text/plain": [
       "VBox(children=(HBox(children=(BasicJupyterToolbar(children=[ToggleButton(children=[Image(value=b'<?xml version…"
      ]
     },
     "metadata": {},
     "output_type": "display_data"
    },
    {
     "data": {
      "application/vnd.jupyter.widget-view+json": {
       "model_id": "ad4bb9f5336a43e49351974ad97fe866",
       "version_major": 2,
       "version_minor": 0
      },
      "text/plain": [
       "VBox(children=(HBox(children=(BasicJupyterToolbar(children=[ToggleButton(children=[Image(value=b'<?xml version…"
      ]
     },
     "metadata": {},
     "output_type": "display_data"
    }
   ],
   "source": [
    "from glue_jupyter.data import require_data\n",
    "import urllib.request\n",
    "from urllib.request import urlopen\n",
    "import glue_jupyter as gj\n",
    "from astroquery.cadc import Cadc \n",
    "\n",
    "url = 'https://api.sne.space/catalog?claimedtype=Ia&format=csv&first'\n",
    "request = urlopen(url, timeout = 60)\n",
    "with open('catalog.csv', 'wb') as f:\n",
    "    f.write(request.read())     \n",
    "    \n",
    "    \n",
    "app = gj.jglue()\n",
    "sn_data = app.load_data('catalog.csv')\n",
    "#print(sn_data)\n",
    "\n",
    "scatter_viewer = app.scatter2d(x = 'redshift',y = 'ebv', data = sn_data)\n",
    "histogram_viewer = app.histogram1d(x = 'redshift', data = sn_data)\n"
   ]
  },
  {
   "cell_type": "code",
   "execution_count": 15,
   "metadata": {},
   "outputs": [
    {
     "name": "stdout",
     "output_type": "stream",
     "text": [
      "<class 'glue.core.subset_group.GroupedSubset'>\n"
     ]
    }
   ],
   "source": [
    "#exporting the selected data \n",
    "for subset in sn_data.subsets:\n",
    "    print(subset['redshift'] )      #access the redshift column of the selected data.\n",
    "    print(subset['ra'])\n",
    "    print(subset['event'])\n"
   ]
  },
  {
   "cell_type": "code",
   "execution_count": null,
   "metadata": {},
   "outputs": [],
   "source": []
  }
 ],
 "metadata": {
  "kernelspec": {
   "display_name": "Python 3",
   "language": "python",
   "name": "python3"
  },
  "language_info": {
   "codemirror_mode": {
    "name": "ipython",
    "version": 3
   },
   "file_extension": ".py",
   "mimetype": "text/x-python",
   "name": "python",
   "nbconvert_exporter": "python",
   "pygments_lexer": "ipython3",
   "version": "3.7.4"
  }
 },
 "nbformat": 4,
 "nbformat_minor": 4
}
