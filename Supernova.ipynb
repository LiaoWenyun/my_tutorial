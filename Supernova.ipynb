{
 "cells": [
  {
   "cell_type": "markdown",
   "metadata": {},
   "source": [
    "# Imaging Supernova\n",
    "\n",
    "In this notebook, we will image a distant supernova event around the date of maximum magnitude. To fetch data, we will use the `astroquery` python package, particularly the CADC module, which queries data provided by the [Canadian Astronomical Data Centre](http://www.cadc-ccda.hia-iha.nrc-cnrc.gc.ca ).\n",
    "\n",
    "---\n",
    "\n",
    "To launch this notebook interactively, click the Binder button. \n",
    "[![Binder](https://mybinder.org/badge_logo.svg)](https://mybinder.org/v2/gh/opencadc/notebook-tutorials/master?filepath=%2Fastroquery_example_supernova.ipynb)\n",
    "\n",
    "**Warning:** Binder instances have limited computational resources. A notebook will shutdown after 10 minutes of inactivity and has a maximum of 2 GB of RAM. Additionally, each repository has a maximum of 100 simultaneous users.\n",
    "\n",
    "---\n",
    "\n",
    "\n",
    "## Table of Contents\n",
    "* [1. Introduction](#1.-Introduction)\n",
    "* [2. Setup](#2.-Setup)\n",
    "    * [2.1 Using pip](#2.1-Using-pip)\n",
    "    * [2.2 From source](#2.2-From-source)\n",
    "* [3. Querying](#3.-Querying)\n",
    "    * [3.1 Find suitable targets](#3.1-Find-suitable-targets)\n",
    "    * [3.2 Using ADQL](#3.2-Using-ADQL) \n",
    "* [4. Fetching Data](#4.-Fetching-Data)\n",
    "    * [4.1 Retrieving Data with astropy.io](#4.1-Retrieving-Data-with-astropy.io)\n",
    "* [5. Plotting Results](#5.-Plotting-Results)\n",
    "\n",
    "\n",
    "## 1. Introduction\n",
    "\n",
    "The [Open Supernova Catalog](https://sne.space/) is an open data collection of supernova and their parameters, such as position, redshifts, and light-curve shape. This tutorial will query the catalog for supernova with a redshift between 0.2 and 0.3. After selecting a supernova target, we will query the CADC database for the target, then display some images.\n",
    "\n",
    "## 2. Setup\n",
    "This tutorial will go through some of the basic functionalities of the CADC module in the astroquery package. The module can be installed in two ways:\n",
    "\n",
    "### 2.1 Using pip\n",
    "The CADC module is only available with the 'bleeding edge' master version of the astroquery module, and can be installed using the command:\n",
    "\n",
    "```\n",
    "    pip install https://github.com/astropy/astroquery/archive/master.zip\n",
    "```\n",
    "\n",
    "### 2.2 From source\n",
    "Alternatively, you can clone and install from the source:\n",
    "```\n",
    "    # If you have a github account:\n",
    "    git clone git@github.com:astropy/astroquery.git\n",
    "    # If you do not:\n",
    "    git clone https://github.com/astropy/astroquery.git\n",
    "    cd astroquery\n",
    "    python setup.py install\n",
    "```\n",
    "Note that these commands can also be done in a Jupyter notebook by either declaring the code cell a bash cell by pasting `%%bash` at the top of the cell, or preceding each line with a `!`. More information about astroquery can be found at the [astroquery github repository](https://github.com/astropy/astroquery). \n",
    "\n",
    "\n",
    "## 3. Querying\n",
    "\n",
    "### 3.1 Find suitable targets\n",
    "For this tutorial, we want to display type Ia supernova and their host galaxy in the CFHT Legacy Survey field. To find a suitable supernova, we can query the [Open Supernova Catalog](https://sne.space/) then refine the results to get a list of supernova with `claimedtype` of `Ia` and `redshift` between `0.2` and `0.3` that are part of the Supernova Legacy Survey (SNLS) where the `discoverdate` is before the `maxdate` so we can see the supernova before maximum light. The [Open Supernova Catalog API](https://github.com/astrocatalogs/OACAPI) was used to build the catalog query.\n",
    "\n"
   ]
  },
  {
   "cell_type": "code",
   "execution_count": 26,
   "metadata": {},
   "outputs": [
    {
     "data": {
      "application/vnd.jupyter.widget-view+json": {
       "model_id": "ced0e5be66a54d7993f8e819ebd48e13",
       "version_major": 2,
       "version_minor": 0
      },
      "text/plain": [
       "interactive(children=(FloatSlider(value=0.2, description='z_min', max=0.6000000000000001, min=-0.2), FloatSlid…"
      ]
     },
     "metadata": {},
     "output_type": "display_data"
    }
   ],
   "source": [
    "import os\n",
    "from urllib.parse import urlencode \n",
    "import pandas as pd \n",
    "from IPython.display import Image, display, HTML\n",
    "import ipywidgets as widgets \n",
    "from ipywidgets import interact, interact_manual \n",
    "from chart_studio.plotly import iplot \n",
    "from astropy import units as u \n",
    "from astropy.coordinates import SkyCoord\n",
    "from astropy.time import Time, TimeDelta\n",
    "\n",
    "params = {'claimedtype' : 'Ia', 'format' : 'csv' }\n",
    "Catalog_domain ='https://api.sne.space/catalog'\n",
    "query_str  = urlencode(params)\n",
    "url = '{}?{}&first'.format(Catalog_domain,query_str)\n",
    "data = pd.read_csv(url)\n",
    "\n",
    "@interact\n",
    "def filter_data(z_min =0.2, z_max =0.3, event =['SNLS'] ):\n",
    "    global sn_data\n",
    "    sn_data = data.copy()\n",
    "    sn_data = sn_data.dropna(subset = ['discoverdate', 'maxdate','redshift'])\n",
    "    sn_data = sn_data[(sn_data['redshift']>z_min) & (sn_data['redshift']<z_max)] \n",
    "    sn_data = sn_data[sn_data['event'].str.startswith(event)]\n",
    "    sn_data = sn_data[sn_data['discoverdate']< sn_data['maxdate']]\n",
    "    print('Query url: {}'.format(url))\n",
    "    print('Number of results: {}'.format(len(sn_data)))\n",
    "    return sn_data \n",
    "\n",
    "#interact(filter_data, z_min =0.2, z_max =0.3, event =['SNLS'])"
   ]
  },
  {
   "cell_type": "markdown",
   "metadata": {},
   "source": [
    "Now that we have a list of suitable supernovae, we can get the area and date range that we need to query the CADC database for. Let's choose the first result from the sn_data table and extract it's R.A., Dec., and date of the maximum observation. We will also grab the \"supernova\" name for plotting later on. Using the R.A. and Dec., we can construct an astropy SkyCoord object, and using the maximum observation date, we can create a date window starting 20 days before and ending 100 days after to query inside of."
   ]
  },
  {
   "cell_type": "code",
   "execution_count": 29,
   "metadata": {},
   "outputs": [
    {
     "data": {
      "application/vnd.jupyter.widget-view+json": {
       "model_id": "4f8689dd22b94992bfae485400dc6c64",
       "version_major": 2,
       "version_minor": 0
      },
      "text/plain": [
       "interactive(children=(Dropdown(description='supernova', options=('SNLS-03D4cj', 'SNLS-04D1dc', 'SNLS-05D1by', …"
      ]
     },
     "metadata": {},
     "output_type": "display_data"
    }
   ],
   "source": [
    "@interact\n",
    "def select_supernova(supernova = sn_data['name'].tolist()):\n",
    "    global start_date, end_date, coords\n",
    "    selected_superNova = sn_data.loc[sn_data.name == supernova].squeeze()\n",
    "    sn_name = selected_superNova['name']\n",
    "    sn_ra = selected_superNova['ra']\n",
    "    sn_dec =  selected_superNova['dec']\n",
    "    sn_maxdate = selected_superNova['maxdate']\n",
    "\n",
    "    coords = SkyCoord(sn_ra, sn_dec, unit=(u.hourangle, u.deg))\n",
    "    days_before = 20.0\n",
    "    days_after = 100.0 \n",
    "    maxdate = Time(sn_maxdate.replace('/','-'), format='isot')\n",
    "    start_date = maxdate - TimeDelta(days_before, format='jd')\n",
    "    end_date = maxdate + TimeDelta(days_after, format='jd')\n",
    "\n",
    "    print('Supernova coordinates: {}'.format(coords))\n",
    "    print('Supernova max date: {}'.format(maxdate))\n",
    "    print('Query date range: {} to {}'.format(start_date, end_date))\n",
    "    \n",
    "    "
   ]
  },
  {
   "cell_type": "markdown",
   "metadata": {},
   "source": [
    "### 3.2 Using ADQL\n",
    "The astroquery CADC python module has a `exec_sync` function which allows you to query the CADC archive database using ADQL. The query syntax requires a string and will execute the query in a batch job, which once finished, will contain the query output results. In this tutorial, we want to query images that:\n",
    "   * contain the supernova coordinates\n",
    "   * have been taken in between the `start_date` and `end_date` calculated above\n",
    "   * have the `r` band filter\n",
    "   * have been collected by the Canada France Hawaii Telescope (CFHT)\n",
    "   * have calibration level 2 or above\n",
    "   * have `quality_flag` that is not junk\n",
    "\n",
    "In addition to these results, we also want an image taken much after the supernova event has occurred in order to give a good view of the host galaxy. So similarly, we will query the same coordinates, `r` filter, CFHT collection, etc, but the time the image is taken will be as new as possible.\n",
    "\n",
    "Once we fetch the results, we will display a subset of the columns (since there are so many!). First, let's start with the query."
   ]
  },
  {
   "cell_type": "code",
   "execution_count": 30,
   "metadata": {},
   "outputs": [
    {
     "data": {
      "application/vnd.jupyter.widget-view+json": {
       "model_id": "bc546c9cbe6d463e8a5e37c6cddd1418",
       "version_major": 2,
       "version_minor": 0
      },
      "text/plain": [
       "interactive(children=(Dropdown(description='Num', options=('', 'TOP 1'), value=''), Dropdown(description='Coll…"
      ]
     },
     "metadata": {},
     "output_type": "display_data"
    }
   ],
   "source": [
    "from astroquery.cadc import Cadc \n",
    "from datetime import datetime\n",
    "\n",
    "@interact \n",
    "def using_adql(Num = ['','TOP 1'],Collection = ['CFHT', 'CFHTMEGAPIPE'], Order = ['ASC','DESC'], now = False):\n",
    "    \n",
    "    query_outline = \"\"\"SELECT {num} * FROM caom2.Plane AS Plane \n",
    "    JOIN caom2.Observation AS Observation ON Plane.obsID = Observation.obsID\n",
    "    WHERE (INTERSECTS( INTERVAL( {mjd_start}, {mjd_end} ), Plane.time_bounds_samples ) = 1 \n",
    "    AND CONTAINS( POINT('ICRS', {ra}, {dec}), Plane.position_bounds ) = 1 \n",
    "    AND LOWER(Plane.energy_bandpassName) LIKE '{filter}%' \n",
    "    AND collection = '{collection}'\n",
    "    AND calibrationLevel >= {cal_level}\n",
    "    AND (Plane.quality_flag IS NULL OR Plane.quality_flag != 'junk'))\n",
    "    ORDER BY time_bounds_lower {order}\"\"\"\n",
    "    \n",
    "    query_params = {\n",
    "    'num': Num,  # Restricts the number of results (empty string returns all)\n",
    "    'mjd_start': start_date.mjd,\n",
    "    'mjd_end': Time(datetime.now(), format='datetime').mjd if now else end_date.mjd,\n",
    "    'ra': coords.ra.degree,\n",
    "    'dec': coords.dec.degree,\n",
    "    'filter': 'r',\n",
    "    'collection': Collection,\n",
    "    'cal_level': 2,\n",
    "    'order': Order  # Order the results from oldest to newest        \n",
    "    }\n",
    "    \n",
    "    cadc = Cadc() \n",
    "    results = cadc.exec_sync(query_outline.format(**query_params))\n",
    "    columns_subset = ['productID', 'collection', 'energy_bandpassName', 'time_bounds_samples','time_bounds_lower', 'time_exposure']\n",
    "    print('Total number of results: {}'.format(len(results)))\n",
    "\n",
    "    # Showing a sample of the results\n",
    "    return results[columns_subset][0:5]\n",
    "    \n",
    "    \n",
    "    "
   ]
  },
  {
   "cell_type": "code",
   "execution_count": null,
   "metadata": {},
   "outputs": [],
   "source": []
  }
 ],
 "metadata": {
  "kernelspec": {
   "display_name": "Python 3",
   "language": "python",
   "name": "python3"
  },
  "language_info": {
   "codemirror_mode": {
    "name": "ipython",
    "version": 3
   },
   "file_extension": ".py",
   "mimetype": "text/x-python",
   "name": "python",
   "nbconvert_exporter": "python",
   "pygments_lexer": "ipython3",
   "version": "3.7.4"
  }
 },
 "nbformat": 4,
 "nbformat_minor": 2
}
