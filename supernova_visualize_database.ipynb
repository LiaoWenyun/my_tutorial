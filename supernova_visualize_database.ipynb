{
 "cells": [
  {
   "cell_type": "code",
   "execution_count": 20,
   "metadata": {},
   "outputs": [
    {
     "data": {
      "application/vnd.jupyter.widget-view+json": {
       "model_id": "98cdffb9762d41a782e94f089d100223",
       "version_major": 2,
       "version_minor": 0
      },
      "text/plain": [
       "interactive(children=(FloatSlider(value=0.2, description='z_min', max=0.6000000000000001, min=-0.2), FloatSlid…"
      ]
     },
     "metadata": {},
     "output_type": "display_data"
    }
   ],
   "source": [
    "import os\n",
    "from urllib.parse import urlencode \n",
    "import pandas as pd \n",
    "from IPython.display import Image, display, HTML\n",
    "import ipywidgets as widgets \n",
    "from ipywidgets import interact, interact_manual \n",
    "from chart_studio.plotly import iplot \n",
    "from astropy import units as u \n",
    "from astropy.coordinates import SkyCoord\n",
    "from astropy.time import Time, TimeDelta\n",
    "from astroquery.cadc import Cadc \n",
    "from datetime import datetime\n",
    "from glue_jupyter.data import require_data\n",
    "import glue_jupyter as gj\n",
    "import csv\n",
    "\n",
    "params = {'claimedtype' : 'Ia', 'format' : 'csv' }\n",
    "Catalog_domain ='https://api.sne.space/catalog'\n",
    "query_str  = urlencode(params)\n",
    "url = '{}?{}&first'.format(Catalog_domain,query_str)\n",
    "data = pd.read_csv(url)\n",
    "\n",
    "\n",
    "def using_adql():\n",
    "    global results\n",
    "    query_outline = \"\"\"SELECT {num} * FROM caom2.Plane AS Plane \n",
    "    JOIN caom2.Observation AS Observation ON Plane.obsID = Observation.obsID\n",
    "    WHERE (INTERSECTS( INTERVAL( {mjd_start}, {mjd_end} ), Plane.time_bounds_samples ) = 1 \n",
    "    AND CONTAINS( POINT('ICRS', {ra}, {dec}), Plane.position_bounds ) = 1 \n",
    "    AND LOWER(Plane.energy_bandpassName) LIKE '{filter}%' \n",
    "    AND collection = '{collection}'\n",
    "    AND calibrationLevel >= {cal_level}\n",
    "    AND (Plane.quality_flag IS NULL OR Plane.quality_flag != 'junk'))\n",
    "    ORDER BY time_bounds_lower {order}\"\"\"\n",
    "    \n",
    "    query_params = {\n",
    "    'num': '',  # Restricts the number of results (empty string returns all)\n",
    "    'mjd_start': start_date.mjd,\n",
    "    'mjd_end': end_date.mjd,\n",
    "    'ra': coords.ra.degree,\n",
    "    'dec': coords.dec.degree,\n",
    "    'filter': 'r',\n",
    "    'collection': 'CFHT',\n",
    "    'cal_level': 2,\n",
    "    'order': 'ASC'  # Order the results from oldest to newest        \n",
    "    }\n",
    "    \n",
    "    cadc = Cadc() \n",
    "    results = cadc.exec_sync(query_outline.format(**query_params))\n",
    "    columns_subset = ['productID', 'collection', 'energy_bandpassName', 'time_bounds_samples','time_bounds_lower', 'time_exposure']\n",
    "    \n",
    "    app = gj .jglue()\n",
    "    with open(\"catalog.csv\", \"w\") as f:\n",
    "        f_writer = csv.writer(f)\n",
    "        f_writer.writerow([i for i in results[columns_subset].columns])\n",
    "        f_writer.writerows(results[columns_subset])\n",
    "        \n",
    "        \n",
    "    sn_data = app.load_data('catalog.csv')\n",
    "    scatter_viewer = app.scatter2d(x = 'productID',y = 'time_bounds_lower', data = sn_data)\n",
    "    histogram_viewer = app.histogram1d(x = 'productID', data = sn_data)\n",
    "    \n",
    "\n",
    "\n",
    "\n",
    "\n",
    "def select_supernova(supernova):\n",
    "    global start_date, end_date, coords\n",
    "    superN = supernova.split()\n",
    "    selected_superNova = sn_data.loc[sn_data.name == superN[0]].squeeze()\n",
    "    sn_name = selected_superNova['name']\n",
    "    sn_ra = selected_superNova['ra']\n",
    "    sn_dec =  selected_superNova['dec']\n",
    "    sn_maxdate = selected_superNova['maxdate']\n",
    "\n",
    "    coords = SkyCoord(sn_ra, sn_dec, unit=(u.hourangle, u.deg))\n",
    "    days_before = 20.0\n",
    "    days_after = 100.0 \n",
    "    maxdate = Time(sn_maxdate.replace('/','-'), format='isot')\n",
    "    start_date = maxdate - TimeDelta(days_before, format='jd')\n",
    "    end_date = maxdate + TimeDelta(days_after, format='jd')\n",
    "    interact(using_adql )\n",
    "\n",
    "@interact\n",
    "def filter_data(z_min =0.2, z_max =0.3, event =['SNLS'] ):\n",
    "    global sn_data\n",
    "    sn_data = data.copy()\n",
    "    sn_data = sn_data.dropna(subset = ['discoverdate', 'maxdate','redshift'])\n",
    "    sn_data = sn_data[(sn_data['redshift']>z_min) & (sn_data['redshift']<z_max)] \n",
    "    sn_data = sn_data[sn_data['event'].str.startswith(event)]\n",
    "    sn_data = sn_data[sn_data['discoverdate']< sn_data['maxdate']]\n",
    "    print('Query url: {}'.format(url))\n",
    "    print('Number of results: {}'.format(len(sn_data)))\n",
    "    print(' '*5+'Name'+' '*8+ 'claimedtype'+' '*5+ 'catalog')\n",
    "    interact(select_supernova, supernova = (sn_data['name']+' '*8+sn_data['claimedtype']+' '*12+sn_data['catalog']).tolist())\n"
   ]
  },
  {
   "cell_type": "code",
   "execution_count": null,
   "metadata": {},
   "outputs": [],
   "source": []
  },
  {
   "cell_type": "code",
   "execution_count": null,
   "metadata": {},
   "outputs": [],
   "source": []
  },
  {
   "cell_type": "code",
   "execution_count": null,
   "metadata": {},
   "outputs": [],
   "source": []
  }
 ],
 "metadata": {
  "kernelspec": {
   "display_name": "Python 3",
   "language": "python",
   "name": "python3"
  },
  "language_info": {
   "codemirror_mode": {
    "name": "ipython",
    "version": 3
   },
   "file_extension": ".py",
   "mimetype": "text/x-python",
   "name": "python",
   "nbconvert_exporter": "python",
   "pygments_lexer": "ipython3",
   "version": "3.7.4"
  }
 },
 "nbformat": 4,
 "nbformat_minor": 2
}
